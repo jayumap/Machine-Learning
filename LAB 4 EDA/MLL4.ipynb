{
  "cells": [
    {
      "cell_type": "markdown",
      "metadata": {
        "id": "ZZ96pqC4ONa3"
      },
      "source": [
        "Problem Statement:Implement a Exploratory Data Analysis on train data and also also Write your observations as you explore as conclusions."
      ]
    },
    {
      "cell_type": "markdown",
      "metadata": {
        "id": "QTJ0LatlESea"
      },
      "source": [
        "Exploratory Data Analysis\n",
        "\n",
        "Exploratory Data Analysis (EDA) is a process of describing the data by means of statistical and visualization techniques in order to bring important aspects of that data into focus for further analysis. This involves inspecting the dataset from many angles, describing & summarizing it without making any assumptions about its contents."
      ]
    },
    {
      "cell_type": "markdown",
      "metadata": {
        "id": "uERDNUoRGPE5"
      },
      "source": [
        "1. Importing libraries and loading data"
      ]
    },
    {
      "cell_type": "code",
      "execution_count": 1,
      "metadata": {
        "id": "fRqIn6moEN37"
      },
      "outputs": [],
      "source": [
        "import numpy as np\n",
        "import pandas as pd\n",
        "import matplotlib.pyplot as plt\n",
        "import seaborn as sns\n",
        "import scipy.stats as stats"
      ]
    },
    {
      "cell_type": "markdown",
      "metadata": {
        "id": "RCNn-gmAGQ2R"
      },
      "source": [
        "Load the dataset in pandas dataframe —"
      ]
    },
    {
      "cell_type": "code",
      "execution_count": 2,
      "metadata": {
        "id": "kLVD8FhjFIHq"
      },
      "outputs": [],
      "source": [
        "data = pd.read_csv('haberman.csv', header = 0)"
      ]
    },
    {
      "cell_type": "code",
      "execution_count": 3,
      "metadata": {
        "id": "z-rc3TqbFTNk"
      },
      "outputs": [],
      "source": [
        "data.columns = ['patient_age', 'operation_year', 'positive_axillary_nodes', 'survival_status']"
      ]
    },
    {
      "cell_type": "markdown",
      "metadata": {
        "id": "LydeF-R-GbOZ"
      },
      "source": [
        "2. Understanding data"
      ]
    },
    {
      "cell_type": "markdown",
      "metadata": {
        "id": "A-BzEsNrGfJ3"
      },
      "source": [
        "Getting the information of each attribute"
      ]
    },
    {
      "cell_type": "code",
      "execution_count": 4,
      "metadata": {
        "colab": {
          "base_uri": "https://localhost:8080/"
        },
        "id": "Wf9CWnHhGBOy",
        "outputId": "34e1731a-76ce-466d-818a-27890d4bc610"
      },
      "outputs": [
        {
          "name": "stdout",
          "output_type": "stream",
          "text": [
            "<class 'pandas.core.frame.DataFrame'>\n",
            "RangeIndex: 305 entries, 0 to 304\n",
            "Data columns (total 4 columns):\n",
            " #   Column                   Non-Null Count  Dtype\n",
            "---  ------                   --------------  -----\n",
            " 0   patient_age              305 non-null    int64\n",
            " 1   operation_year           305 non-null    int64\n",
            " 2   positive_axillary_nodes  305 non-null    int64\n",
            " 3   survival_status          305 non-null    int64\n",
            "dtypes: int64(4)\n",
            "memory usage: 9.7 KB\n"
          ]
        }
      ],
      "source": [
        "data.info()"
      ]
    },
    {
      "cell_type": "code",
      "execution_count": 5,
      "metadata": {
        "colab": {
          "base_uri": "https://localhost:8080/"
        },
        "id": "6m3djN5RGI5s",
        "outputId": "e2645b02-11af-42b2-844d-325383f09172"
      },
      "outputs": [
        {
          "data": {
            "text/plain": [
              "1    224\n",
              "2     81\n",
              "Name: survival_status, dtype: int64"
            ]
          },
          "execution_count": 5,
          "metadata": {},
          "output_type": "execute_result"
        }
      ],
      "source": [
        "data[\"survival_status\"].value_counts()"
      ]
    },
    {
      "cell_type": "markdown",
      "metadata": {
        "id": "N6TK8ItaHG5D"
      },
      "source": [
        "1.The dataset is imbalanced as expected.\n",
        "2.Out of a total of 305 patients, the number of patients who survived\n",
        "over 5 years post-operation is nearly 3 times the number of patients who died within 5 years.\n",
        "\n",
        "\n",
        "\n"
      ]
    },
    {
      "cell_type": "markdown",
      "metadata": {
        "id": "CaB65ikCH53y"
      },
      "source": [
        "2.1 Data preparation\n",
        "\n",
        "\n",
        "Before we go for statistical analysis and visualization, we see that the original class labels — 1 (survived 5 years and above) and 2 (died within 5 years) are not in accordance with the case.\n",
        "\n",
        "So, we map survival status values 1 and 2 in the column survival_status to categorical variables ‘yes’ and ‘no’ respectively such that,\n",
        "survival_status = 1 → survival_status = ‘yes’\n",
        "survival_status = 2 → survival_status = ‘no’\n",
        "\n",
        "\n",
        "\n",
        "\n",
        "\n"
      ]
    },
    {
      "cell_type": "code",
      "execution_count": 6,
      "metadata": {
        "id": "4fAHv_vUH8XO"
      },
      "outputs": [],
      "source": [
        "data['survival_status'] = data['survival_status'].map({1:\"yes\", 2:\"no\"})"
      ]
    },
    {
      "cell_type": "markdown",
      "metadata": {
        "id": "136bNOYhIU7m"
      },
      "source": [
        "2.2 General statistical analysis"
      ]
    },
    {
      "cell_type": "code",
      "execution_count": 7,
      "metadata": {
        "colab": {
          "base_uri": "https://localhost:8080/",
          "height": 300
        },
        "id": "9OFNfgY-IWvM",
        "outputId": "71620768-c5f0-4a08-b202-bf7a7dd55e47"
      },
      "outputs": [
        {
          "data": {
            "text/html": [
              "<div>\n",
              "<style scoped>\n",
              "    .dataframe tbody tr th:only-of-type {\n",
              "        vertical-align: middle;\n",
              "    }\n",
              "\n",
              "    .dataframe tbody tr th {\n",
              "        vertical-align: top;\n",
              "    }\n",
              "\n",
              "    .dataframe thead th {\n",
              "        text-align: right;\n",
              "    }\n",
              "</style>\n",
              "<table border=\"1\" class=\"dataframe\">\n",
              "  <thead>\n",
              "    <tr style=\"text-align: right;\">\n",
              "      <th></th>\n",
              "      <th>patient_age</th>\n",
              "      <th>operation_year</th>\n",
              "      <th>positive_axillary_nodes</th>\n",
              "    </tr>\n",
              "  </thead>\n",
              "  <tbody>\n",
              "    <tr>\n",
              "      <th>count</th>\n",
              "      <td>305.000000</td>\n",
              "      <td>305.000000</td>\n",
              "      <td>305.000000</td>\n",
              "    </tr>\n",
              "    <tr>\n",
              "      <th>mean</th>\n",
              "      <td>52.531148</td>\n",
              "      <td>62.849180</td>\n",
              "      <td>4.036066</td>\n",
              "    </tr>\n",
              "    <tr>\n",
              "      <th>std</th>\n",
              "      <td>10.744024</td>\n",
              "      <td>3.254078</td>\n",
              "      <td>7.199370</td>\n",
              "    </tr>\n",
              "    <tr>\n",
              "      <th>min</th>\n",
              "      <td>30.000000</td>\n",
              "      <td>58.000000</td>\n",
              "      <td>0.000000</td>\n",
              "    </tr>\n",
              "    <tr>\n",
              "      <th>25%</th>\n",
              "      <td>44.000000</td>\n",
              "      <td>60.000000</td>\n",
              "      <td>0.000000</td>\n",
              "    </tr>\n",
              "    <tr>\n",
              "      <th>50%</th>\n",
              "      <td>52.000000</td>\n",
              "      <td>63.000000</td>\n",
              "      <td>1.000000</td>\n",
              "    </tr>\n",
              "    <tr>\n",
              "      <th>75%</th>\n",
              "      <td>61.000000</td>\n",
              "      <td>66.000000</td>\n",
              "      <td>4.000000</td>\n",
              "    </tr>\n",
              "    <tr>\n",
              "      <th>max</th>\n",
              "      <td>83.000000</td>\n",
              "      <td>69.000000</td>\n",
              "      <td>52.000000</td>\n",
              "    </tr>\n",
              "  </tbody>\n",
              "</table>\n",
              "</div>"
            ],
            "text/plain": [
              "       patient_age  operation_year  positive_axillary_nodes\n",
              "count   305.000000      305.000000               305.000000\n",
              "mean     52.531148       62.849180                 4.036066\n",
              "std      10.744024        3.254078                 7.199370\n",
              "min      30.000000       58.000000                 0.000000\n",
              "25%      44.000000       60.000000                 0.000000\n",
              "50%      52.000000       63.000000                 1.000000\n",
              "75%      61.000000       66.000000                 4.000000\n",
              "max      83.000000       69.000000                52.000000"
            ]
          },
          "execution_count": 7,
          "metadata": {},
          "output_type": "execute_result"
        }
      ],
      "source": [
        "data.describe()"
      ]
    },
    {
      "cell_type": "markdown",
      "metadata": {
        "id": "5oUdzlfxIjQ1"
      },
      "source": [
        "1.On average, patients got operated at age of 63.\n",
        "\n",
        "2.An average number of positive axillary nodes detected = 4.\n",
        "\n",
        "3.As indicated by the 50th percentile, the median of positive axillary nodes is 1.\n",
        "\n",
        "4.As indicated by the 75th percentile, 75% of the patients have less than 4 nodes detected.\n",
        "\n",
        "\n"
      ]
    },
    {
      "cell_type": "markdown",
      "metadata": {
        "id": "kA1aSSKKI9Dv"
      },
      "source": [
        "2.3 Class-wise statistical analysis"
      ]
    },
    {
      "cell_type": "code",
      "execution_count": 8,
      "metadata": {
        "colab": {
          "base_uri": "https://localhost:8080/",
          "height": 300
        },
        "id": "RHWhFTouI-oK",
        "outputId": "1fa40581-491d-408c-b80f-01f8da52d362"
      },
      "outputs": [
        {
          "data": {
            "text/html": [
              "<div>\n",
              "<style scoped>\n",
              "    .dataframe tbody tr th:only-of-type {\n",
              "        vertical-align: middle;\n",
              "    }\n",
              "\n",
              "    .dataframe tbody tr th {\n",
              "        vertical-align: top;\n",
              "    }\n",
              "\n",
              "    .dataframe thead th {\n",
              "        text-align: right;\n",
              "    }\n",
              "</style>\n",
              "<table border=\"1\" class=\"dataframe\">\n",
              "  <thead>\n",
              "    <tr style=\"text-align: right;\">\n",
              "      <th></th>\n",
              "      <th>patient_age</th>\n",
              "      <th>operation_year</th>\n",
              "      <th>positive_axillary_nodes</th>\n",
              "    </tr>\n",
              "  </thead>\n",
              "  <tbody>\n",
              "    <tr>\n",
              "      <th>count</th>\n",
              "      <td>224.000000</td>\n",
              "      <td>224.000000</td>\n",
              "      <td>224.000000</td>\n",
              "    </tr>\n",
              "    <tr>\n",
              "      <th>mean</th>\n",
              "      <td>52.116071</td>\n",
              "      <td>62.857143</td>\n",
              "      <td>2.799107</td>\n",
              "    </tr>\n",
              "    <tr>\n",
              "      <th>std</th>\n",
              "      <td>10.937446</td>\n",
              "      <td>3.229231</td>\n",
              "      <td>5.882237</td>\n",
              "    </tr>\n",
              "    <tr>\n",
              "      <th>min</th>\n",
              "      <td>30.000000</td>\n",
              "      <td>58.000000</td>\n",
              "      <td>0.000000</td>\n",
              "    </tr>\n",
              "    <tr>\n",
              "      <th>25%</th>\n",
              "      <td>43.000000</td>\n",
              "      <td>60.000000</td>\n",
              "      <td>0.000000</td>\n",
              "    </tr>\n",
              "    <tr>\n",
              "      <th>50%</th>\n",
              "      <td>52.000000</td>\n",
              "      <td>63.000000</td>\n",
              "      <td>0.000000</td>\n",
              "    </tr>\n",
              "    <tr>\n",
              "      <th>75%</th>\n",
              "      <td>60.000000</td>\n",
              "      <td>66.000000</td>\n",
              "      <td>3.000000</td>\n",
              "    </tr>\n",
              "    <tr>\n",
              "      <th>max</th>\n",
              "      <td>77.000000</td>\n",
              "      <td>69.000000</td>\n",
              "      <td>46.000000</td>\n",
              "    </tr>\n",
              "  </tbody>\n",
              "</table>\n",
              "</div>"
            ],
            "text/plain": [
              "       patient_age  operation_year  positive_axillary_nodes\n",
              "count   224.000000      224.000000               224.000000\n",
              "mean     52.116071       62.857143                 2.799107\n",
              "std      10.937446        3.229231                 5.882237\n",
              "min      30.000000       58.000000                 0.000000\n",
              "25%      43.000000       60.000000                 0.000000\n",
              "50%      52.000000       63.000000                 0.000000\n",
              "75%      60.000000       66.000000                 3.000000\n",
              "max      77.000000       69.000000                46.000000"
            ]
          },
          "execution_count": 8,
          "metadata": {},
          "output_type": "execute_result"
        }
      ],
      "source": [
        "survival_yes = data[data['survival_status'] == 'yes']\n",
        "survival_yes.describe()"
      ]
    },
    {
      "cell_type": "code",
      "execution_count": 9,
      "metadata": {
        "colab": {
          "base_uri": "https://localhost:8080/",
          "height": 300
        },
        "id": "r5hgzgESJI-e",
        "outputId": "050a1ed9-b2c3-43b4-cf7e-7798ae2de965"
      },
      "outputs": [
        {
          "data": {
            "text/html": [
              "<div>\n",
              "<style scoped>\n",
              "    .dataframe tbody tr th:only-of-type {\n",
              "        vertical-align: middle;\n",
              "    }\n",
              "\n",
              "    .dataframe tbody tr th {\n",
              "        vertical-align: top;\n",
              "    }\n",
              "\n",
              "    .dataframe thead th {\n",
              "        text-align: right;\n",
              "    }\n",
              "</style>\n",
              "<table border=\"1\" class=\"dataframe\">\n",
              "  <thead>\n",
              "    <tr style=\"text-align: right;\">\n",
              "      <th></th>\n",
              "      <th>patient_age</th>\n",
              "      <th>operation_year</th>\n",
              "      <th>positive_axillary_nodes</th>\n",
              "    </tr>\n",
              "  </thead>\n",
              "  <tbody>\n",
              "    <tr>\n",
              "      <th>count</th>\n",
              "      <td>81.000000</td>\n",
              "      <td>81.000000</td>\n",
              "      <td>81.000000</td>\n",
              "    </tr>\n",
              "    <tr>\n",
              "      <th>mean</th>\n",
              "      <td>53.679012</td>\n",
              "      <td>62.827160</td>\n",
              "      <td>7.456790</td>\n",
              "    </tr>\n",
              "    <tr>\n",
              "      <th>std</th>\n",
              "      <td>10.167137</td>\n",
              "      <td>3.342118</td>\n",
              "      <td>9.185654</td>\n",
              "    </tr>\n",
              "    <tr>\n",
              "      <th>min</th>\n",
              "      <td>34.000000</td>\n",
              "      <td>58.000000</td>\n",
              "      <td>0.000000</td>\n",
              "    </tr>\n",
              "    <tr>\n",
              "      <th>25%</th>\n",
              "      <td>46.000000</td>\n",
              "      <td>59.000000</td>\n",
              "      <td>1.000000</td>\n",
              "    </tr>\n",
              "    <tr>\n",
              "      <th>50%</th>\n",
              "      <td>53.000000</td>\n",
              "      <td>63.000000</td>\n",
              "      <td>4.000000</td>\n",
              "    </tr>\n",
              "    <tr>\n",
              "      <th>75%</th>\n",
              "      <td>61.000000</td>\n",
              "      <td>65.000000</td>\n",
              "      <td>11.000000</td>\n",
              "    </tr>\n",
              "    <tr>\n",
              "      <th>max</th>\n",
              "      <td>83.000000</td>\n",
              "      <td>69.000000</td>\n",
              "      <td>52.000000</td>\n",
              "    </tr>\n",
              "  </tbody>\n",
              "</table>\n",
              "</div>"
            ],
            "text/plain": [
              "       patient_age  operation_year  positive_axillary_nodes\n",
              "count    81.000000       81.000000                81.000000\n",
              "mean     53.679012       62.827160                 7.456790\n",
              "std      10.167137        3.342118                 9.185654\n",
              "min      34.000000       58.000000                 0.000000\n",
              "25%      46.000000       59.000000                 1.000000\n",
              "50%      53.000000       63.000000                 4.000000\n",
              "75%      61.000000       65.000000                11.000000\n",
              "max      83.000000       69.000000                52.000000"
            ]
          },
          "execution_count": 9,
          "metadata": {},
          "output_type": "execute_result"
        }
      ],
      "source": [
        "survival_no = data[data[\"survival_status\"] == \"no\"]\n",
        "survival_no.describe()"
      ]
    },
    {
      "cell_type": "markdown",
      "metadata": {
        "id": "W2ABUTKEJUqH"
      },
      "source": [
        "From the above class-wise analysis, it can be observed that —\n",
        "\n",
        "\n",
        "1.The average age at which the patient is operated on is nearly the same in both cases.\n",
        "\n",
        "2.Patients who died within 5 years on average had about 4 to 5 positive axillary nodes more than the patients who lived over 5 years post-operation.\n"
      ]
    },
    {
      "cell_type": "markdown",
      "metadata": {
        "id": "R6KNev38JgVR"
      },
      "source": [
        "3. Uni-variate data analysis\n",
        "\n",
        "Uni-variate analysis as the name suggests is an analysis carried out by considering one variable at a time.\n",
        "\n",
        "To determine the survival status given the features — patient's age, operation year, and positive axillary nodes count.\n",
        "\n",
        "The distribution plots (also called probability density function or PDF plots) with each feature as a variable on X-axis. The values on the Y-axis in each case represent the normalized density."
      ]
    },
    {
      "cell_type": "markdown",
      "metadata": {
        "id": "Lsc_ZGGGKA6i"
      },
      "source": [
        "1. Patient’s age"
      ]
    },
    {
      "cell_type": "code",
      "execution_count": 10,
      "metadata": {
        "colab": {
          "base_uri": "https://localhost:8080/",
          "height": 307
        },
        "id": "NuGsBW9qKIgh",
        "outputId": "e5e92ebd-674f-45ad-f5e1-f9669c7c499a"
      },
      "outputs": [
        {
          "name": "stderr",
          "output_type": "stream",
          "text": [
            "c:\\Users\\UMAP\\anaconda3\\lib\\site-packages\\seaborn\\axisgrid.py:88: UserWarning: The figure layout has changed to tight\n",
            "  self._figure.tight_layout(*args, **kwargs)\n"
          ]
        },
        {
          "data": {
            "image/png": "[encoded data removed]",
            "text/plain": [
              "<Figure size 415.236x300 with 1 Axes>"
            ]
          },
          "metadata": {},
          "output_type": "display_data"
        }
      ],
      "source": [
        "sns.FacetGrid(data, hue = \"survival_status\").map(sns.histplot, \"patient_age\").add_legend()\n",
        "plt.show()"
      ]
    },
    {
      "cell_type": "markdown",
      "metadata": {
        "id": "8a9-WFZGKli9"
      },
      "source": [
        "Conclusion:\n",
        "\n",
        "1.Among all the age groups, the patients belonging to 40-60 years of age are highest.\n",
        "\n",
        "2.There is a high overlap between the class labels. This implies that the survival status of the patient post-operation cannot be discerned from the patient's age."
      ]
    },
    {
      "cell_type": "markdown",
      "metadata": {
        "id": "MnsAp2uUKvHx"
      },
      "source": [
        "2. Operation year"
      ]
    },
    {
      "cell_type": "code",
      "execution_count": 11,
      "metadata": {
        "colab": {
          "base_uri": "https://localhost:8080/",
          "height": 307
        },
        "id": "K_rTV3prKxBG",
        "outputId": "ef3a16c4-9c5d-42b4-ee43-dd67a40d0fda"
      },
      "outputs": [
        {
          "name": "stderr",
          "output_type": "stream",
          "text": [
            "c:\\Users\\UMAP\\anaconda3\\lib\\site-packages\\seaborn\\axisgrid.py:88: UserWarning: The figure layout has changed to tight\n",
            "  self._figure.tight_layout(*args, **kwargs)\n"
          ]
        },
        {
          "data": {
            "image/png": "[encoded data removed]",
            "text/plain": [
              "<Figure size 415.236x300 with 1 Axes>"
            ]
          },
          "metadata": {},
          "output_type": "display_data"
        }
      ],
      "source": [
        "sns.FacetGrid(data, hue = \"survival_status\").map(sns.histplot, \"operation_year\").add_legend()\n",
        "plt.show()"
      ]
    },
    {
      "cell_type": "markdown",
      "metadata": {
        "id": "81jkPC9EK-sB"
      },
      "source": [
        "Conclusion:\n",
        "\n",
        "Just like the above plot, here too, there is a huge overlap between the class labels suggesting that one cannot make any distinctive conclusion regarding the survival status based solely on the operation year."
      ]
    },
    {
      "cell_type": "markdown",
      "metadata": {
        "id": "EbWCcm4BLC_Z"
      },
      "source": [
        "3. Number of positive axillary nodes"
      ]
    },
    {
      "cell_type": "code",
      "execution_count": 12,
      "metadata": {
        "colab": {
          "base_uri": "https://localhost:8080/",
          "height": 307
        },
        "id": "6ZenJgTYLcL-",
        "outputId": "26b70839-8393-4156-9be8-36d674a5184f"
      },
      "outputs": [
        {
          "name": "stderr",
          "output_type": "stream",
          "text": [
            "c:\\Users\\UMAP\\anaconda3\\lib\\site-packages\\seaborn\\axisgrid.py:88: UserWarning: The figure layout has changed to tight\n",
            "  self._figure.tight_layout(*args, **kwargs)\n"
          ]
        },
        {
          "data": {
            "image/png": "[encoded data removed]",
            "text/plain": [
              "<Figure size 415.236x300 with 1 Axes>"
            ]
          },
          "metadata": {},
          "output_type": "display_data"
        }
      ],
      "source": [
        "sns.FacetGrid(data, hue = \"survival_status\").map(sns.histplot, \"positive_axillary_nodes\").add_legend()\n",
        "plt.show()"
      ]
    },
    {
      "cell_type": "markdown",
      "metadata": {
        "id": "Z9jfT7bWLl65"
      },
      "source": [
        "This plot looks interesting! Although there is a good amount of overlap, here we can make some distinctive observations –\n",
        "\n",
        "\n",
        "1.Patients having 4 or fewer axillary nodes — A very good majority of these patients have survived 5 years or longer.\n",
        "\n",
        "2.Patients having more than 4 axillary nodes — the likelihood of survival is found to be less as compared to the patients having 4 or fewer axillary nodes."
      ]
    },
    {
      "cell_type": "markdown",
      "metadata": {
        "id": "DRmn2CAPMFiQ"
      },
      "source": [
        "Cumulative Distribution function(CDF) plots come into the picture for the quantitative measure.\n",
        "\n",
        "CDF is an integral of PDF over the range of values that a continuous random variable takes. CDF of a random variable at any point 'x' gives the probability that a random variable will take a value less than or equal to 'x'."
      ]
    },
    {
      "cell_type": "code",
      "execution_count": 13,
      "metadata": {
        "colab": {
          "base_uri": "https://localhost:8080/",
          "height": 450
        },
        "id": "CDhTzNZQM33r",
        "outputId": "abc48afc-ab4e-4b95-ef43-a7af9bf6dc2f"
      },
      "outputs": [
        {
          "data": {
            "image/png": "[encoded data removed]",
            "text/plain": [
              "<Figure size 640x480 with 1 Axes>"
            ]
          },
          "metadata": {},
          "output_type": "display_data"
        }
      ],
      "source": [
        "counts, bin_edges = np.histogram(survival_yes[\"positive_axillary_nodes\"], density = True)\n",
        "pdf = counts/sum(counts)\n",
        "cdf = np.cumsum(pdf)\n",
        "plt.plot(bin_edges[1:], cdf, label = \"CDF Survival status = Yes\")\n",
        "\n",
        "counts, bin_edges = np.histogram(survival_no[\"positive_axillary_nodes\"], density = True)\n",
        "pdf = counts/sum(counts)\n",
        "cdf = np.cumsum(pdf)\n",
        "plt.plot(bin_edges[1:], cdf, label = \"CDF Survival status = No\")\n",
        "plt.legend()\n",
        "plt.xlabel(\"positive_axillary_nodes\")\n",
        "plt.grid()\n",
        "plt.show()"
      ]
    },
    {
      "cell_type": "markdown",
      "metadata": {
        "id": "PzPA1C_eNet8"
      },
      "source": [
        "Some of the observations that could be made from the CDF plot —\n",
        "\n",
        "\n",
        "1.Patients having 4 or fewer positive axillary nodes have about 85% chance of survival for 5 years or longer post-operation, whereas this number is less for the patients having more than 4 positive axillary nodes. This gap diminishes as the number of axillary nodes increases."
      ]
    }
  ],
  "metadata": {
    "colab": {
      "provenance": []
    },
    "kernelspec": {
      "display_name": "Python 3",
      "name": "python3"
    },
    "language_info": {
      "codemirror_mode": {
        "name": "ipython",
        "version": 3
      },
      "file_extension": ".py",
      "mimetype": "text/x-python",
      "name": "python",
      "nbconvert_exporter": "python",
      "pygments_lexer": "ipython3",
      "version": "3.9.13"
    }
  },
  "nbformat": 4,
  "nbformat_minor": 0
}
