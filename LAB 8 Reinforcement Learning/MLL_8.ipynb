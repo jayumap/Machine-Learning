{
  "cells": [
    {
      "cell_type": "markdown",
      "metadata": {
        "id": "zFhP-jqon4L-"
      },
      "source": [
        "Reinforcement Learning\n"
      ]
    },
    {
      "cell_type": "code",
      "execution_count": 5,
      "metadata": {
        "id": "C0c3d7D7qIDA"
      },
      "outputs": [],
      "source": [
        "import random"
      ]
    },
    {
      "cell_type": "code",
      "execution_count": 6,
      "metadata": {
        "id": "losfJFg8n-3l"
      },
      "outputs": [],
      "source": [
        "class MyEnvironment:\n",
        "\n",
        "  def __init__(self):\n",
        "\n",
        "    self.remaining_steps=20\n",
        "\n",
        "  def get_observation(self):\n",
        "\n",
        "    return [1.0,2.0,1.0]\n",
        "\n",
        "  def get_actions(self):\n",
        "\n",
        "    return [-1,1]\n",
        "\n",
        "  def check_is_done(self):\n",
        "\n",
        "    return self.remaining_steps==0\n",
        "\n",
        "  def action(self,int):\n",
        "\n",
        "    if self.check_is_done():\n",
        "\n",
        "      raise Exception(\"Game over\")\n",
        "\n",
        "    self.remaining_steps-=1\n",
        "\n",
        "    return random.random()"
      ]
    },
    {
      "cell_type": "code",
      "execution_count": 7,
      "metadata": {
        "id": "MrYK8SpzpFvI"
      },
      "outputs": [],
      "source": [
        "class myAgent:\n",
        "   def __init__(self):\n",
        "     self.total_rewards=0.0\n",
        "   def step(self,ob:MyEnvironment):\n",
        "     curr_obs=ob.get_observation()\n",
        "     print(curr_obs)\n",
        "     curr_action=ob.get_actions()\n",
        "     print(curr_action)\n",
        "     curr_reward=ob.action(random.choice(curr_action))\n",
        "     self.total_rewards+=curr_reward\n",
        "     print(\"Total rewards so far= %.3f \"%self.total_rewards)"
      ]
    },
    {
      "cell_type": "code",
      "execution_count": 8,
      "metadata": {
        "colab": {
          "base_uri": "https://localhost:8080/"
        },
        "id": "YwCBPr2hpNrT",
        "outputId": "9b2a56b3-41c8-4f0b-b724-efc301156a78"
      },
      "outputs": [
        {
          "name": "stdout",
          "output_type": "stream",
          "text": [
            "Step- 1\n",
            "[1.0, 2.0, 1.0]\n",
            "[-1, 1]\n",
            "Total rewards so far= 0.136 \n",
            "Step- 2\n",
            "[1.0, 2.0, 1.0]\n",
            "[-1, 1]\n",
            "Total rewards so far= 0.396 \n",
            "Step- 3\n",
            "[1.0, 2.0, 1.0]\n",
            "[-1, 1]\n",
            "Total rewards so far= 0.526 \n",
            "Step- 4\n",
            "[1.0, 2.0, 1.0]\n",
            "[-1, 1]\n",
            "Total rewards so far= 1.434 \n",
            "Step- 5\n",
            "[1.0, 2.0, 1.0]\n",
            "[-1, 1]\n",
            "Total rewards so far= 1.702 \n",
            "Step- 6\n",
            "[1.0, 2.0, 1.0]\n",
            "[-1, 1]\n",
            "Total rewards so far= 2.458 \n",
            "Step- 7\n",
            "[1.0, 2.0, 1.0]\n",
            "[-1, 1]\n",
            "Total rewards so far= 2.798 \n",
            "Step- 8\n",
            "[1.0, 2.0, 1.0]\n",
            "[-1, 1]\n",
            "Total rewards so far= 3.409 \n",
            "Step- 9\n",
            "[1.0, 2.0, 1.0]\n",
            "[-1, 1]\n",
            "Total rewards so far= 4.160 \n",
            "Step- 10\n",
            "[1.0, 2.0, 1.0]\n",
            "[-1, 1]\n",
            "Total rewards so far= 4.943 \n",
            "Step- 11\n",
            "[1.0, 2.0, 1.0]\n",
            "[-1, 1]\n",
            "Total rewards so far= 5.669 \n",
            "Step- 12\n",
            "[1.0, 2.0, 1.0]\n",
            "[-1, 1]\n",
            "Total rewards so far= 5.856 \n",
            "Step- 13\n",
            "[1.0, 2.0, 1.0]\n",
            "[-1, 1]\n",
            "Total rewards so far= 6.619 \n",
            "Step- 14\n",
            "[1.0, 2.0, 1.0]\n",
            "[-1, 1]\n",
            "Total rewards so far= 6.669 \n",
            "Step- 15\n",
            "[1.0, 2.0, 1.0]\n",
            "[-1, 1]\n",
            "Total rewards so far= 6.901 \n",
            "Step- 16\n",
            "[1.0, 2.0, 1.0]\n",
            "[-1, 1]\n",
            "Total rewards so far= 7.859 \n",
            "Step- 17\n",
            "[1.0, 2.0, 1.0]\n",
            "[-1, 1]\n",
            "Total rewards so far= 8.319 \n",
            "Step- 18\n",
            "[1.0, 2.0, 1.0]\n",
            "[-1, 1]\n",
            "Total rewards so far= 8.927 \n",
            "Step- 19\n",
            "[1.0, 2.0, 1.0]\n",
            "[-1, 1]\n",
            "Total rewards so far= 8.994 \n",
            "Step- 20\n",
            "[1.0, 2.0, 1.0]\n",
            "[-1, 1]\n",
            "Total rewards so far= 9.890 \n",
            "Total reward is 9.890 \n"
          ]
        }
      ],
      "source": [
        "if __name__=='__main__':\n",
        "\n",
        "  obj=MyEnvironment()\n",
        "\n",
        "  agent=myAgent()\n",
        "\n",
        "  step_number=0\n",
        "\n",
        "  while not obj.check_is_done():\n",
        "\n",
        "    step_number+=1\n",
        "\n",
        "    print(\"Step-\",step_number)\n",
        "\n",
        "    agent.step(obj)\n",
        "\n",
        "print(\"Total reward is %.3f \"%agent.total_rewards)"
      ]
    }
  ],
  "metadata": {
    "colab": {
      "provenance": []
    },
    "kernelspec": {
      "display_name": "Python 3",
      "name": "python3"
    },
    "language_info": {
      "codemirror_mode": {
        "name": "ipython",
        "version": 3
      },
      "file_extension": ".py",
      "mimetype": "text/x-python",
      "name": "python",
      "nbconvert_exporter": "python",
      "pygments_lexer": "ipython3",
      "version": "3.11.5"
    }
  },
  "nbformat": 4,
  "nbformat_minor": 0
}
