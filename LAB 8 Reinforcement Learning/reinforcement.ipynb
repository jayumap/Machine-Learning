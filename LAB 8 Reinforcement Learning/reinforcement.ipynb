{
 "cells": [
  {
   "cell_type": "code",
   "execution_count": 1,
   "metadata": {},
   "outputs": [],
   "source": [
    "import random"
   ]
  },
  {
   "cell_type": "code",
   "execution_count": 2,
   "metadata": {},
   "outputs": [],
   "source": [
    "class MyEnvironment:\n",
    "    def __init__(self):\n",
    "        self.remaining_steps=20\n",
    "    \n",
    "    def get_observation(self):\n",
    "        return [1.0,2.0,1.0]\n",
    "\n",
    "    def get_actions(self):\n",
    "        return [-1,1]\n",
    "\n",
    "    def check_is_done(self):\n",
    "        return self.remaining_steps==0\n",
    "\n",
    "    def action(self,int):\n",
    "        if self.check_is_done():\n",
    "            raise Exception(\"Game over\")\n",
    "        \n",
    "        self.remaining_steps-=1\n",
    "        return random.random()"
   ]
  },
  {
   "cell_type": "code",
   "execution_count": 3,
   "metadata": {},
   "outputs": [],
   "source": [
    "class myAgent:\n",
    "   def __init__(self):\n",
    "     self.total_rewards=0.0\n",
    "   def step(self,ob:MyEnvironment):\n",
    "     curr_obs=ob.get_observation()\n",
    "     print(curr_obs)\n",
    "     curr_action=ob.get_actions()\n",
    "     print(curr_action)\n",
    "     curr_reward=ob.action(random.choice(curr_action))\n",
    "     self.total_rewards+=curr_reward\n",
    "     print(\"Total rewards so far= %.3f \"%self.total_rewards)"
   ]
  },
  {
   "cell_type": "code",
   "execution_count": null,
   "metadata": {},
   "outputs": [],
   "source": [
    "if __name__=='__main__':\n",
    "    obj=MyEnvironment()\n",
    "\n",
    "agent=myAgent()\n",
    "step_number=0\n",
    "\n",
    "while not obj.check_is_done():\n",
    "    step_number+=1\n",
    "\n",
    "print(\"Step-\",step_number)\n",
    "agent.step(obj)\n",
    "print(\"Total reward is %.3f \"%agent.total_rewards)"
   ]
  }
 ],
 "metadata": {
  "kernelspec": {
   "display_name": "base",
   "language": "python",
   "name": "python3"
  },
  "language_info": {
   "codemirror_mode": {
    "name": "ipython",
    "version": 3
   },
   "file_extension": ".py",
   "mimetype": "text/x-python",
   "name": "python",
   "nbconvert_exporter": "python",
   "pygments_lexer": "ipython3",
   "version": "3.9.13"
  },
  "orig_nbformat": 4
 },
 "nbformat": 4,
 "nbformat_minor": 2
}
